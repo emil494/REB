{
 "cells": [
  {
   "cell_type": "code",
   "execution_count": 1,
   "metadata": {},
   "outputs": [
    {
     "name": "stdout",
     "output_type": "stream",
     "text": [
      "None\n"
     ]
    }
   ],
   "source": [
    "from pm4py.objects.dcr.hierarchical.obj import HierarchicalDcrGraph\n",
    "from pm4py.objects.dcr.hierarchical.semantics import NestedDcrGraph"
   ]
  },
  {
   "cell_type": "code",
   "execution_count": 2,
   "metadata": {},
   "outputs": [
    {
     "name": "stdout",
     "output_type": "stream",
     "text": [
      "{'E2'}\n",
      "{'E3', 'E1', 'E2'}\n"
     ]
    }
   ],
   "source": [
    "# Condition on nested\n",
    "graph = HierarchicalDcrGraph()\n",
    "\n",
    "event1 = \"E1\"\n",
    "event2 = \"E2\"\n",
    "event3 = \"E3\"\n",
    "\n",
    "graph.events.add(event1)\n",
    "graph.events.add(event2)\n",
    "graph.events.add(event3)\n",
    "\n",
    "graph.nestedgroups[\"G1\"] = [\"E1\", \"E3\"]\n",
    "\n",
    "graph.conditions[\"G1\"] = {\"E2\"}\n",
    "\n",
    "graph.marking.included.add(\"G1\")\n",
    "graph.marking.included.add(\"E1\")\n",
    "graph.marking.included.add(\"E2\")\n",
    "graph.marking.included.add(\"E3\")\n",
    "\n",
    "print(NestedDcrGraph.enabled(graph))\n",
    "tmp = NestedDcrGraph.execute(graph, \"E2\")\n",
    "print(NestedDcrGraph.enabled(tmp))"
   ]
  },
  {
   "cell_type": "code",
   "execution_count": 3,
   "metadata": {},
   "outputs": [
    {
     "name": "stdout",
     "output_type": "stream",
     "text": [
      "{'E2'}\n",
      "{'E3', 'E1', 'E2'}\n"
     ]
    }
   ],
   "source": [
    "#Include Test\n",
    "graph = HierarchicalDcrGraph()\n",
    "\n",
    "event1 = \"E1\"\n",
    "event2 = \"E2\"\n",
    "event3 = \"E3\"\n",
    "\n",
    "graph.events.add(event1)\n",
    "graph.events.add(event2)\n",
    "graph.events.add(event3)\n",
    "\n",
    "graph.nestedgroups[\"G1\"] = [\"E1\", \"E3\"]\n",
    "\n",
    "graph.includes[\"E2\"] = {\"G1\"}\n",
    "\n",
    "graph.marking.included.add(\"E2\")\n",
    "\n",
    "print(NestedDcrGraph.enabled(graph))\n",
    "tmp = NestedDcrGraph.execute(graph, \"E2\")\n",
    "print(NestedDcrGraph.enabled(tmp))"
   ]
  },
  {
   "cell_type": "code",
   "execution_count": 4,
   "metadata": {},
   "outputs": [
    {
     "name": "stdout",
     "output_type": "stream",
     "text": [
      "{'E3', 'E1', 'E2'}\n",
      "{'E2'}\n"
     ]
    }
   ],
   "source": [
    "# Exclude Test\n",
    "graph = HierarchicalDcrGraph()\n",
    "\n",
    "event1 = \"E1\"\n",
    "event2 = \"E2\"\n",
    "event3 = \"E3\"\n",
    "\n",
    "graph.events.add(event1)\n",
    "graph.events.add(event2)\n",
    "graph.events.add(event3)\n",
    "\n",
    "graph.nestedgroups[\"G1\"] = [\"E1\", \"E3\"]\n",
    "\n",
    "graph.excludes[\"E2\"] = {\"G1\"}\n",
    "\n",
    "graph.marking.included.add(\"G1\")\n",
    "graph.marking.included.add(\"E1\")\n",
    "graph.marking.included.add(\"E2\")\n",
    "graph.marking.included.add(\"E3\")\n",
    "\n",
    "print(NestedDcrGraph.enabled(graph))\n",
    "tmp = NestedDcrGraph.execute(graph, \"E2\")\n",
    "print(NestedDcrGraph.enabled(tmp))"
   ]
  },
  {
   "cell_type": "code",
   "execution_count": 15,
   "metadata": {},
   "outputs": [
    {
     "name": "stdout",
     "output_type": "stream",
     "text": [
      "Pending before: set()\n",
      "Pending after{'E3', 'E1'}\n"
     ]
    }
   ],
   "source": [
    "# Response Test\n",
    "graph = HierarchicalDcrGraph()\n",
    "\n",
    "event1 = \"E1\"\n",
    "event2 = \"E2\"\n",
    "event3 = \"E3\"\n",
    "\n",
    "graph.events.add(event1)\n",
    "graph.events.add(event2)\n",
    "graph.events.add(event3)\n",
    "\n",
    "graph.nestedgroups[\"G1\"] = [\"E1\", \"E3\"]\n",
    "\n",
    "graph.responses[\"E2\"] = {\"G1\"}\n",
    "\n",
    "graph.marking.included.add(\"G1\")\n",
    "graph.marking.included.add(\"E1\")\n",
    "graph.marking.included.add(\"E2\")\n",
    "graph.marking.included.add(\"E3\")\n",
    "\n",
    "print(\"Pending before: \" + f\"{graph.marking.pending}\")\n",
    "tmp = NestedDcrGraph.execute(graph, \"E2\")\n",
    "print(\"Pending after\" + f\"{tmp.marking.pending}\")"
   ]
  },
  {
   "cell_type": "code",
   "execution_count": 6,
   "metadata": {},
   "outputs": [
    {
     "name": "stdout",
     "output_type": "stream",
     "text": [
      "{'E3', 'E1'}\n",
      "{'E3', 'E1', 'E2'}\n"
     ]
    }
   ],
   "source": [
    "# Include an event in an excluded nesting Test\n",
    "graph = HierarchicalDcrGraph()\n",
    "\n",
    "event1 = \"E1\"\n",
    "event2 = \"E2\"\n",
    "event3 = \"E3\"\n",
    "\n",
    "graph.events.add(event1)\n",
    "graph.events.add(event2)\n",
    "graph.events.add(event3)\n",
    "\n",
    "graph.nestedgroups[\"G1\"] = [\"E1\", \"E3\"]\n",
    "\n",
    "graph.conditions[\"E2\"] = {\"E1\"}\n",
    "\n",
    "graph.marking.included.add(\"G1\")\n",
    "graph.marking.included.add(\"E1\")\n",
    "graph.marking.included.add(\"E2\")\n",
    "graph.marking.included.add(\"E3\")\n",
    "\n",
    "\n",
    "print(NestedDcrGraph.enabled(graph))\n",
    "tmp = NestedDcrGraph.execute(graph, \"E1\")\n",
    "print(NestedDcrGraph.enabled(tmp))"
   ]
  },
  {
   "cell_type": "code",
   "execution_count": 7,
   "metadata": {},
   "outputs": [
    {
     "name": "stdout",
     "output_type": "stream",
     "text": [
      "{'E3', 'E1'}\n",
      "{'E3', 'E1', 'E2'}\n"
     ]
    }
   ],
   "source": [
    "# Condition from nesting to event\n",
    "graph = HierarchicalDcrGraph()\n",
    "\n",
    "event1 = \"E1\"\n",
    "event2 = \"E2\"\n",
    "event3 = \"E3\"\n",
    "\n",
    "graph.events.add(event1)\n",
    "graph.events.add(event2)\n",
    "graph.events.add(event3)\n",
    "\n",
    "graph.nestedgroups[\"G1\"] = [\"E1\", \"E3\"]\n",
    "\n",
    "graph.conditions[\"E2\"] = {\"G1\"}\n",
    "\n",
    "graph.marking.included.add(\"G1\")\n",
    "graph.marking.included.add(\"E1\")\n",
    "graph.marking.included.add(\"E2\")\n",
    "graph.marking.included.add(\"E3\")\n",
    "\n",
    "print(NestedDcrGraph.enabled(graph))\n",
    "tmp = NestedDcrGraph.execute(graph, \"E1\")\n",
    "print(NestedDcrGraph.enabled(tmp))"
   ]
  },
  {
   "cell_type": "code",
   "execution_count": 9,
   "metadata": {},
   "outputs": [
    {
     "name": "stdout",
     "output_type": "stream",
     "text": [
      "{'E3', 'E1'}\n",
      "{'E3', 'E1', 'E2'}\n"
     ]
    }
   ],
   "source": [
    "# Include from nesting to event\n",
    "graph = HierarchicalDcrGraph()\n",
    "\n",
    "event1 = \"E1\"\n",
    "event2 = \"E2\"\n",
    "event3 = \"E3\"\n",
    "\n",
    "graph.events.add(event1)\n",
    "graph.events.add(event2)\n",
    "graph.events.add(event3)\n",
    "\n",
    "graph.nestedgroups[\"G1\"] = [\"E1\", \"E3\"]\n",
    "\n",
    "graph.includes[\"G1\"] = {\"E2\"}\n",
    "\n",
    "graph.marking.included.add(\"G1\")\n",
    "graph.marking.included.add(\"E1\")\n",
    "graph.marking.included.add(\"E3\")\n",
    "\n",
    "print(NestedDcrGraph.enabled(graph))\n",
    "tmp = NestedDcrGraph.execute(graph, \"E1\")\n",
    "print(NestedDcrGraph.enabled(tmp))"
   ]
  },
  {
   "cell_type": "code",
   "execution_count": 18,
   "metadata": {},
   "outputs": [
    {
     "name": "stdout",
     "output_type": "stream",
     "text": [
      "Pending before: set()\n",
      "Pending after{'E2'}\n"
     ]
    }
   ],
   "source": [
    "# Response from nesting to event\n",
    "graph = HierarchicalDcrGraph()\n",
    "\n",
    "event1 = \"E1\"\n",
    "event2 = \"E2\"\n",
    "event3 = \"E3\"\n",
    "\n",
    "graph.events.add(event1)\n",
    "graph.events.add(event2)\n",
    "graph.events.add(event3)\n",
    "\n",
    "graph.nestedgroups[\"G1\"] = [\"E1\", \"E3\"]\n",
    "\n",
    "graph.responses[\"G1\"] = {\"E2\"}\n",
    "\n",
    "graph.marking.included.add(\"G1\")\n",
    "graph.marking.included.add(\"E1\")\n",
    "graph.marking.included.add(\"E2\")\n",
    "graph.marking.included.add(\"E3\")\n",
    "\n",
    "print(\"Pending before: \" + f\"{graph.marking.pending}\")\n",
    "tmp = NestedDcrGraph.execute(graph, \"E1\")\n",
    "print(\"Pending after\" + f\"{tmp.marking.pending}\")"
   ]
  },
  {
   "cell_type": "code",
   "execution_count": null,
   "metadata": {},
   "outputs": [],
   "source": [
    "# Excludes from nesting to event\n",
    "graph = HierarchicalDcrGraph()\n",
    "\n",
    "event1 = \"E1\"\n",
    "event2 = \"E2\"\n",
    "event3 = \"E3\"\n",
    "\n",
    "graph.events.add(event1)\n",
    "graph.events.add(event2)\n",
    "graph.events.add(event3)\n",
    "\n",
    "graph.nestedgroups[\"G1\"] = [\"E1\", \"E3\"]\n",
    "\n",
    "graph.includes[\"G1\"] = {\"E2\"}\n",
    "\n",
    "graph.marking.included.add(\"G1\")\n",
    "graph.marking.included.add(\"E1\")\n",
    "graph.marking.included.add(\"E2\")\n",
    "graph.marking.included.add(\"E3\")\n",
    "\n",
    "print(NestedDcrGraph.enabled(graph))\n",
    "tmp = NestedDcrGraph.execute(graph, \"E1\")\n",
    "print(NestedDcrGraph.enabled(tmp))"
   ]
  }
 ],
 "metadata": {
  "kernelspec": {
   "display_name": "Python 3",
   "language": "python",
   "name": "python3"
  },
  "language_info": {
   "codemirror_mode": {
    "name": "ipython",
    "version": 3
   },
   "file_extension": ".py",
   "mimetype": "text/x-python",
   "name": "python",
   "nbconvert_exporter": "python",
   "pygments_lexer": "ipython3",
   "version": "3.11.3"
  }
 },
 "nbformat": 4,
 "nbformat_minor": 2
}
